{
 "cells": [
  {
   "cell_type": "code",
   "execution_count": null,
   "id": "15c7082e-0aa5-41a5-a803-daf1950c719e",
   "metadata": {},
   "outputs": [],
   "source": []
  },
  {
   "cell_type": "markdown",
   "id": "22c23e25-ac16-4e66-937e-92d80df1551d",
   "metadata": {},
   "source": [
    "# Step1: Importing Libraries"
   ]
  },
  {
   "cell_type": "code",
   "execution_count": 5,
   "id": "f80f2a93-134f-4e9e-a14f-fc6f81bf7ef8",
   "metadata": {},
   "outputs": [],
   "source": [
    "import numpy as np  # Used for numerical calculations and data manipulation.\n",
    "\n",
    "import pandas as pd  # Used for data analysis and handling data structures (DataFrame, Series).\n",
    "\n",
    "import matplotlib.pyplot as plt  # Basic library for 2D plotting and data visualization.\n",
    "\n",
    "import seaborn as sns  # Used for statistical data visualization. It is built on top of Matplotlib.\n",
    "\n",
    "import plotly.express as px  # Used for interactive graphs and data visualization.\n",
    "\n"
   ]
  },
  {
   "cell_type": "markdown",
   "id": "f75000d1-485b-45f4-891b-b4006793c302",
   "metadata": {},
   "source": [
    "# 1.2 Load the DataSet"
   ]
  },
  {
   "cell_type": "code",
   "execution_count": 7,
   "id": "a4b4581b-686a-4f08-a69b-d5b00b3b6bba",
   "metadata": {},
   "outputs": [
    {
     "data": {
      "text/html": [
       "<div>\n",
       "<style scoped>\n",
       "    .dataframe tbody tr th:only-of-type {\n",
       "        vertical-align: middle;\n",
       "    }\n",
       "\n",
       "    .dataframe tbody tr th {\n",
       "        vertical-align: top;\n",
       "    }\n",
       "\n",
       "    .dataframe thead th {\n",
       "        text-align: right;\n",
       "    }\n",
       "</style>\n",
       "<table border=\"1\" class=\"dataframe\">\n",
       "  <thead>\n",
       "    <tr style=\"text-align: right;\">\n",
       "      <th></th>\n",
       "      <th>InvoiceNo</th>\n",
       "      <th>StockCode</th>\n",
       "      <th>Description</th>\n",
       "      <th>Quantity</th>\n",
       "      <th>InvoiceDate</th>\n",
       "      <th>UnitPrice</th>\n",
       "      <th>CustomerID</th>\n",
       "      <th>Country</th>\n",
       "      <th>Discount</th>\n",
       "      <th>PaymentMethod</th>\n",
       "      <th>ShippingCost</th>\n",
       "      <th>Category</th>\n",
       "      <th>SalesChannel</th>\n",
       "      <th>ReturnStatus</th>\n",
       "      <th>ShipmentProvider</th>\n",
       "      <th>WarehouseLocation</th>\n",
       "      <th>OrderPriority</th>\n",
       "    </tr>\n",
       "  </thead>\n",
       "  <tbody>\n",
       "    <tr>\n",
       "      <th>0</th>\n",
       "      <td>221958</td>\n",
       "      <td>SKU_1964</td>\n",
       "      <td>White Mug</td>\n",
       "      <td>38</td>\n",
       "      <td>2020-01-01 00:00</td>\n",
       "      <td>1.71</td>\n",
       "      <td>37039.0</td>\n",
       "      <td>Australia</td>\n",
       "      <td>0.470000</td>\n",
       "      <td>Bank Transfer</td>\n",
       "      <td>10.79</td>\n",
       "      <td>Apparel</td>\n",
       "      <td>In-store</td>\n",
       "      <td>Not Returned</td>\n",
       "      <td>UPS</td>\n",
       "      <td>London</td>\n",
       "      <td>Medium</td>\n",
       "    </tr>\n",
       "    <tr>\n",
       "      <th>1</th>\n",
       "      <td>771155</td>\n",
       "      <td>SKU_1241</td>\n",
       "      <td>White Mug</td>\n",
       "      <td>18</td>\n",
       "      <td>2020-01-01 01:00</td>\n",
       "      <td>41.25</td>\n",
       "      <td>19144.0</td>\n",
       "      <td>Spain</td>\n",
       "      <td>0.190000</td>\n",
       "      <td>paypall</td>\n",
       "      <td>9.51</td>\n",
       "      <td>Electronics</td>\n",
       "      <td>Online</td>\n",
       "      <td>Not Returned</td>\n",
       "      <td>UPS</td>\n",
       "      <td>Rome</td>\n",
       "      <td>Medium</td>\n",
       "    </tr>\n",
       "    <tr>\n",
       "      <th>2</th>\n",
       "      <td>231932</td>\n",
       "      <td>SKU_1501</td>\n",
       "      <td>Headphones</td>\n",
       "      <td>49</td>\n",
       "      <td>2020-01-01 02:00</td>\n",
       "      <td>29.11</td>\n",
       "      <td>50472.0</td>\n",
       "      <td>Germany</td>\n",
       "      <td>0.350000</td>\n",
       "      <td>Bank Transfer</td>\n",
       "      <td>23.03</td>\n",
       "      <td>Electronics</td>\n",
       "      <td>Online</td>\n",
       "      <td>Returned</td>\n",
       "      <td>UPS</td>\n",
       "      <td>Berlin</td>\n",
       "      <td>High</td>\n",
       "    </tr>\n",
       "    <tr>\n",
       "      <th>3</th>\n",
       "      <td>465838</td>\n",
       "      <td>SKU_1760</td>\n",
       "      <td>Desk Lamp</td>\n",
       "      <td>14</td>\n",
       "      <td>2020-01-01 03:00</td>\n",
       "      <td>76.68</td>\n",
       "      <td>96586.0</td>\n",
       "      <td>Netherlands</td>\n",
       "      <td>0.140000</td>\n",
       "      <td>paypall</td>\n",
       "      <td>11.08</td>\n",
       "      <td>Accessories</td>\n",
       "      <td>Online</td>\n",
       "      <td>Not Returned</td>\n",
       "      <td>Royal Mail</td>\n",
       "      <td>Rome</td>\n",
       "      <td>Low</td>\n",
       "    </tr>\n",
       "    <tr>\n",
       "      <th>4</th>\n",
       "      <td>359178</td>\n",
       "      <td>SKU_1386</td>\n",
       "      <td>USB Cable</td>\n",
       "      <td>-30</td>\n",
       "      <td>2020-01-01 04:00</td>\n",
       "      <td>-68.11</td>\n",
       "      <td>NaN</td>\n",
       "      <td>United Kingdom</td>\n",
       "      <td>1.501433</td>\n",
       "      <td>Bank Transfer</td>\n",
       "      <td>NaN</td>\n",
       "      <td>Electronics</td>\n",
       "      <td>In-store</td>\n",
       "      <td>Not Returned</td>\n",
       "      <td>FedEx</td>\n",
       "      <td>NaN</td>\n",
       "      <td>Medium</td>\n",
       "    </tr>\n",
       "    <tr>\n",
       "      <th>...</th>\n",
       "      <td>...</td>\n",
       "      <td>...</td>\n",
       "      <td>...</td>\n",
       "      <td>...</td>\n",
       "      <td>...</td>\n",
       "      <td>...</td>\n",
       "      <td>...</td>\n",
       "      <td>...</td>\n",
       "      <td>...</td>\n",
       "      <td>...</td>\n",
       "      <td>...</td>\n",
       "      <td>...</td>\n",
       "      <td>...</td>\n",
       "      <td>...</td>\n",
       "      <td>...</td>\n",
       "      <td>...</td>\n",
       "      <td>...</td>\n",
       "    </tr>\n",
       "    <tr>\n",
       "      <th>49777</th>\n",
       "      <td>354083</td>\n",
       "      <td>SKU_1562</td>\n",
       "      <td>Blue Pen</td>\n",
       "      <td>25</td>\n",
       "      <td>2025-09-05 01:00</td>\n",
       "      <td>70.92</td>\n",
       "      <td>51445.0</td>\n",
       "      <td>Spain</td>\n",
       "      <td>0.200000</td>\n",
       "      <td>Credit Card</td>\n",
       "      <td>8.96</td>\n",
       "      <td>Electronics</td>\n",
       "      <td>Online</td>\n",
       "      <td>Returned</td>\n",
       "      <td>UPS</td>\n",
       "      <td>Berlin</td>\n",
       "      <td>Medium</td>\n",
       "    </tr>\n",
       "    <tr>\n",
       "      <th>49778</th>\n",
       "      <td>296698</td>\n",
       "      <td>SKU_1930</td>\n",
       "      <td>USB Cable</td>\n",
       "      <td>7</td>\n",
       "      <td>2025-09-05 02:00</td>\n",
       "      <td>51.74</td>\n",
       "      <td>28879.0</td>\n",
       "      <td>United States</td>\n",
       "      <td>0.230000</td>\n",
       "      <td>Bank Transfer</td>\n",
       "      <td>23.55</td>\n",
       "      <td>Electronics</td>\n",
       "      <td>Online</td>\n",
       "      <td>Not Returned</td>\n",
       "      <td>FedEx</td>\n",
       "      <td>Amsterdam</td>\n",
       "      <td>Low</td>\n",
       "    </tr>\n",
       "    <tr>\n",
       "      <th>49779</th>\n",
       "      <td>177622</td>\n",
       "      <td>SKU_1766</td>\n",
       "      <td>Office Chair</td>\n",
       "      <td>43</td>\n",
       "      <td>2025-09-05 03:00</td>\n",
       "      <td>85.25</td>\n",
       "      <td>21825.0</td>\n",
       "      <td>Portugal</td>\n",
       "      <td>0.200000</td>\n",
       "      <td>Bank Transfer</td>\n",
       "      <td>16.26</td>\n",
       "      <td>Furniture</td>\n",
       "      <td>In-store</td>\n",
       "      <td>Not Returned</td>\n",
       "      <td>FedEx</td>\n",
       "      <td>London</td>\n",
       "      <td>High</td>\n",
       "    </tr>\n",
       "    <tr>\n",
       "      <th>49780</th>\n",
       "      <td>701213</td>\n",
       "      <td>SKU_1602</td>\n",
       "      <td>Notebook</td>\n",
       "      <td>48</td>\n",
       "      <td>2025-09-05 04:00</td>\n",
       "      <td>39.64</td>\n",
       "      <td>43199.0</td>\n",
       "      <td>United Kingdom</td>\n",
       "      <td>0.310000</td>\n",
       "      <td>paypall</td>\n",
       "      <td>28.56</td>\n",
       "      <td>Apparel</td>\n",
       "      <td>Online</td>\n",
       "      <td>Not Returned</td>\n",
       "      <td>Royal Mail</td>\n",
       "      <td>London</td>\n",
       "      <td>Medium</td>\n",
       "    </tr>\n",
       "    <tr>\n",
       "      <th>49781</th>\n",
       "      <td>772215</td>\n",
       "      <td>SKU_1832</td>\n",
       "      <td>White Mug</td>\n",
       "      <td>30</td>\n",
       "      <td>2025-09-05 05:00</td>\n",
       "      <td>38.27</td>\n",
       "      <td>53328.0</td>\n",
       "      <td>France</td>\n",
       "      <td>0.100000</td>\n",
       "      <td>Credit Card</td>\n",
       "      <td>9.13</td>\n",
       "      <td>Stationery</td>\n",
       "      <td>Online</td>\n",
       "      <td>Not Returned</td>\n",
       "      <td>UPS</td>\n",
       "      <td>Rome</td>\n",
       "      <td>Low</td>\n",
       "    </tr>\n",
       "  </tbody>\n",
       "</table>\n",
       "<p>49782 rows × 17 columns</p>\n",
       "</div>"
      ],
      "text/plain": [
       "       InvoiceNo StockCode   Description  Quantity       InvoiceDate  \\\n",
       "0         221958  SKU_1964     White Mug        38  2020-01-01 00:00   \n",
       "1         771155  SKU_1241     White Mug        18  2020-01-01 01:00   \n",
       "2         231932  SKU_1501    Headphones        49  2020-01-01 02:00   \n",
       "3         465838  SKU_1760     Desk Lamp        14  2020-01-01 03:00   \n",
       "4         359178  SKU_1386     USB Cable       -30  2020-01-01 04:00   \n",
       "...          ...       ...           ...       ...               ...   \n",
       "49777     354083  SKU_1562      Blue Pen        25  2025-09-05 01:00   \n",
       "49778     296698  SKU_1930     USB Cable         7  2025-09-05 02:00   \n",
       "49779     177622  SKU_1766  Office Chair        43  2025-09-05 03:00   \n",
       "49780     701213  SKU_1602      Notebook        48  2025-09-05 04:00   \n",
       "49781     772215  SKU_1832     White Mug        30  2025-09-05 05:00   \n",
       "\n",
       "       UnitPrice  CustomerID         Country  Discount  PaymentMethod  \\\n",
       "0           1.71     37039.0       Australia  0.470000  Bank Transfer   \n",
       "1          41.25     19144.0           Spain  0.190000        paypall   \n",
       "2          29.11     50472.0         Germany  0.350000  Bank Transfer   \n",
       "3          76.68     96586.0     Netherlands  0.140000        paypall   \n",
       "4         -68.11         NaN  United Kingdom  1.501433  Bank Transfer   \n",
       "...          ...         ...             ...       ...            ...   \n",
       "49777      70.92     51445.0           Spain  0.200000    Credit Card   \n",
       "49778      51.74     28879.0   United States  0.230000  Bank Transfer   \n",
       "49779      85.25     21825.0        Portugal  0.200000  Bank Transfer   \n",
       "49780      39.64     43199.0  United Kingdom  0.310000        paypall   \n",
       "49781      38.27     53328.0          France  0.100000    Credit Card   \n",
       "\n",
       "       ShippingCost     Category SalesChannel  ReturnStatus ShipmentProvider  \\\n",
       "0             10.79      Apparel     In-store  Not Returned              UPS   \n",
       "1              9.51  Electronics       Online  Not Returned              UPS   \n",
       "2             23.03  Electronics       Online      Returned              UPS   \n",
       "3             11.08  Accessories       Online  Not Returned       Royal Mail   \n",
       "4               NaN  Electronics     In-store  Not Returned            FedEx   \n",
       "...             ...          ...          ...           ...              ...   \n",
       "49777          8.96  Electronics       Online      Returned              UPS   \n",
       "49778         23.55  Electronics       Online  Not Returned            FedEx   \n",
       "49779         16.26    Furniture     In-store  Not Returned            FedEx   \n",
       "49780         28.56      Apparel       Online  Not Returned       Royal Mail   \n",
       "49781          9.13   Stationery       Online  Not Returned              UPS   \n",
       "\n",
       "      WarehouseLocation OrderPriority  \n",
       "0                London        Medium  \n",
       "1                  Rome        Medium  \n",
       "2                Berlin          High  \n",
       "3                  Rome           Low  \n",
       "4                   NaN        Medium  \n",
       "...                 ...           ...  \n",
       "49777            Berlin        Medium  \n",
       "49778         Amsterdam           Low  \n",
       "49779            London          High  \n",
       "49780            London        Medium  \n",
       "49781              Rome           Low  \n",
       "\n",
       "[49782 rows x 17 columns]"
      ]
     },
     "execution_count": 7,
     "metadata": {},
     "output_type": "execute_result"
    }
   ],
   "source": [
    "df = pd.read_csv(\"F:/AI Projects/14. Online Sales Data Analysis/online_sales_dataset.csv\")\n",
    "df"
   ]
  },
  {
   "cell_type": "markdown",
   "id": "c46764c3-c7db-4ab1-9e47-21f07eaf8b5d",
   "metadata": {},
   "source": [
    "# Display First few Rows"
   ]
  },
  {
   "cell_type": "code",
   "execution_count": 9,
   "id": "3e64052d-f084-49bc-aa8f-8f8c519c1b86",
   "metadata": {},
   "outputs": [
    {
     "data": {
      "text/html": [
       "<div>\n",
       "<style scoped>\n",
       "    .dataframe tbody tr th:only-of-type {\n",
       "        vertical-align: middle;\n",
       "    }\n",
       "\n",
       "    .dataframe tbody tr th {\n",
       "        vertical-align: top;\n",
       "    }\n",
       "\n",
       "    .dataframe thead th {\n",
       "        text-align: right;\n",
       "    }\n",
       "</style>\n",
       "<table border=\"1\" class=\"dataframe\">\n",
       "  <thead>\n",
       "    <tr style=\"text-align: right;\">\n",
       "      <th></th>\n",
       "      <th>InvoiceNo</th>\n",
       "      <th>StockCode</th>\n",
       "      <th>Description</th>\n",
       "      <th>Quantity</th>\n",
       "      <th>InvoiceDate</th>\n",
       "      <th>UnitPrice</th>\n",
       "      <th>CustomerID</th>\n",
       "      <th>Country</th>\n",
       "      <th>Discount</th>\n",
       "      <th>PaymentMethod</th>\n",
       "      <th>ShippingCost</th>\n",
       "      <th>Category</th>\n",
       "      <th>SalesChannel</th>\n",
       "      <th>ReturnStatus</th>\n",
       "      <th>ShipmentProvider</th>\n",
       "      <th>WarehouseLocation</th>\n",
       "      <th>OrderPriority</th>\n",
       "    </tr>\n",
       "  </thead>\n",
       "  <tbody>\n",
       "    <tr>\n",
       "      <th>0</th>\n",
       "      <td>221958</td>\n",
       "      <td>SKU_1964</td>\n",
       "      <td>White Mug</td>\n",
       "      <td>38</td>\n",
       "      <td>2020-01-01 00:00</td>\n",
       "      <td>1.71</td>\n",
       "      <td>37039.0</td>\n",
       "      <td>Australia</td>\n",
       "      <td>0.470000</td>\n",
       "      <td>Bank Transfer</td>\n",
       "      <td>10.79</td>\n",
       "      <td>Apparel</td>\n",
       "      <td>In-store</td>\n",
       "      <td>Not Returned</td>\n",
       "      <td>UPS</td>\n",
       "      <td>London</td>\n",
       "      <td>Medium</td>\n",
       "    </tr>\n",
       "    <tr>\n",
       "      <th>1</th>\n",
       "      <td>771155</td>\n",
       "      <td>SKU_1241</td>\n",
       "      <td>White Mug</td>\n",
       "      <td>18</td>\n",
       "      <td>2020-01-01 01:00</td>\n",
       "      <td>41.25</td>\n",
       "      <td>19144.0</td>\n",
       "      <td>Spain</td>\n",
       "      <td>0.190000</td>\n",
       "      <td>paypall</td>\n",
       "      <td>9.51</td>\n",
       "      <td>Electronics</td>\n",
       "      <td>Online</td>\n",
       "      <td>Not Returned</td>\n",
       "      <td>UPS</td>\n",
       "      <td>Rome</td>\n",
       "      <td>Medium</td>\n",
       "    </tr>\n",
       "    <tr>\n",
       "      <th>2</th>\n",
       "      <td>231932</td>\n",
       "      <td>SKU_1501</td>\n",
       "      <td>Headphones</td>\n",
       "      <td>49</td>\n",
       "      <td>2020-01-01 02:00</td>\n",
       "      <td>29.11</td>\n",
       "      <td>50472.0</td>\n",
       "      <td>Germany</td>\n",
       "      <td>0.350000</td>\n",
       "      <td>Bank Transfer</td>\n",
       "      <td>23.03</td>\n",
       "      <td>Electronics</td>\n",
       "      <td>Online</td>\n",
       "      <td>Returned</td>\n",
       "      <td>UPS</td>\n",
       "      <td>Berlin</td>\n",
       "      <td>High</td>\n",
       "    </tr>\n",
       "    <tr>\n",
       "      <th>3</th>\n",
       "      <td>465838</td>\n",
       "      <td>SKU_1760</td>\n",
       "      <td>Desk Lamp</td>\n",
       "      <td>14</td>\n",
       "      <td>2020-01-01 03:00</td>\n",
       "      <td>76.68</td>\n",
       "      <td>96586.0</td>\n",
       "      <td>Netherlands</td>\n",
       "      <td>0.140000</td>\n",
       "      <td>paypall</td>\n",
       "      <td>11.08</td>\n",
       "      <td>Accessories</td>\n",
       "      <td>Online</td>\n",
       "      <td>Not Returned</td>\n",
       "      <td>Royal Mail</td>\n",
       "      <td>Rome</td>\n",
       "      <td>Low</td>\n",
       "    </tr>\n",
       "    <tr>\n",
       "      <th>4</th>\n",
       "      <td>359178</td>\n",
       "      <td>SKU_1386</td>\n",
       "      <td>USB Cable</td>\n",
       "      <td>-30</td>\n",
       "      <td>2020-01-01 04:00</td>\n",
       "      <td>-68.11</td>\n",
       "      <td>NaN</td>\n",
       "      <td>United Kingdom</td>\n",
       "      <td>1.501433</td>\n",
       "      <td>Bank Transfer</td>\n",
       "      <td>NaN</td>\n",
       "      <td>Electronics</td>\n",
       "      <td>In-store</td>\n",
       "      <td>Not Returned</td>\n",
       "      <td>FedEx</td>\n",
       "      <td>NaN</td>\n",
       "      <td>Medium</td>\n",
       "    </tr>\n",
       "  </tbody>\n",
       "</table>\n",
       "</div>"
      ],
      "text/plain": [
       "   InvoiceNo StockCode Description  Quantity       InvoiceDate  UnitPrice  \\\n",
       "0     221958  SKU_1964   White Mug        38  2020-01-01 00:00       1.71   \n",
       "1     771155  SKU_1241   White Mug        18  2020-01-01 01:00      41.25   \n",
       "2     231932  SKU_1501  Headphones        49  2020-01-01 02:00      29.11   \n",
       "3     465838  SKU_1760   Desk Lamp        14  2020-01-01 03:00      76.68   \n",
       "4     359178  SKU_1386   USB Cable       -30  2020-01-01 04:00     -68.11   \n",
       "\n",
       "   CustomerID         Country  Discount  PaymentMethod  ShippingCost  \\\n",
       "0     37039.0       Australia  0.470000  Bank Transfer         10.79   \n",
       "1     19144.0           Spain  0.190000        paypall          9.51   \n",
       "2     50472.0         Germany  0.350000  Bank Transfer         23.03   \n",
       "3     96586.0     Netherlands  0.140000        paypall         11.08   \n",
       "4         NaN  United Kingdom  1.501433  Bank Transfer           NaN   \n",
       "\n",
       "      Category SalesChannel  ReturnStatus ShipmentProvider WarehouseLocation  \\\n",
       "0      Apparel     In-store  Not Returned              UPS            London   \n",
       "1  Electronics       Online  Not Returned              UPS              Rome   \n",
       "2  Electronics       Online      Returned              UPS            Berlin   \n",
       "3  Accessories       Online  Not Returned       Royal Mail              Rome   \n",
       "4  Electronics     In-store  Not Returned            FedEx               NaN   \n",
       "\n",
       "  OrderPriority  \n",
       "0        Medium  \n",
       "1        Medium  \n",
       "2          High  \n",
       "3           Low  \n",
       "4        Medium  "
      ]
     },
     "execution_count": 9,
     "metadata": {},
     "output_type": "execute_result"
    }
   ],
   "source": [
    "df.head(5)"
   ]
  },
  {
   "cell_type": "markdown",
   "id": "87e0ac47-8446-4360-b731-a519b095cd43",
   "metadata": {},
   "source": [
    "# Inspect the data types and missing values using df.info()"
   ]
  },
  {
   "cell_type": "code",
   "execution_count": 11,
   "id": "88435f8b-e356-48a7-a22b-24edcc3b603d",
   "metadata": {},
   "outputs": [
    {
     "name": "stdout",
     "output_type": "stream",
     "text": [
      "<class 'pandas.core.frame.DataFrame'>\n",
      "RangeIndex: 49782 entries, 0 to 49781\n",
      "Data columns (total 17 columns):\n",
      " #   Column             Non-Null Count  Dtype  \n",
      "---  ------             --------------  -----  \n",
      " 0   InvoiceNo          49782 non-null  int64  \n",
      " 1   StockCode          49782 non-null  object \n",
      " 2   Description        49782 non-null  object \n",
      " 3   Quantity           49782 non-null  int64  \n",
      " 4   InvoiceDate        49782 non-null  object \n",
      " 5   UnitPrice          49782 non-null  float64\n",
      " 6   CustomerID         44804 non-null  float64\n",
      " 7   Country            49782 non-null  object \n",
      " 8   Discount           49782 non-null  float64\n",
      " 9   PaymentMethod      49782 non-null  object \n",
      " 10  ShippingCost       47293 non-null  float64\n",
      " 11  Category           49782 non-null  object \n",
      " 12  SalesChannel       49782 non-null  object \n",
      " 13  ReturnStatus       49782 non-null  object \n",
      " 14  ShipmentProvider   49782 non-null  object \n",
      " 15  WarehouseLocation  46297 non-null  object \n",
      " 16  OrderPriority      49782 non-null  object \n",
      "dtypes: float64(4), int64(2), object(11)\n",
      "memory usage: 6.5+ MB\n"
     ]
    }
   ],
   "source": [
    "df.info()"
   ]
  },
  {
   "cell_type": "markdown",
   "id": "7ad2b16d-c895-4b1f-82fc-51070b1b12b1",
   "metadata": {},
   "source": [
    "# Get basic statistics for numerical columns with df.describe()"
   ]
  },
  {
   "cell_type": "code",
   "execution_count": 13,
   "id": "4792b481-c5f0-4317-a963-633abffc2257",
   "metadata": {},
   "outputs": [
    {
     "data": {
      "text/html": [
       "<div>\n",
       "<style scoped>\n",
       "    .dataframe tbody tr th:only-of-type {\n",
       "        vertical-align: middle;\n",
       "    }\n",
       "\n",
       "    .dataframe tbody tr th {\n",
       "        vertical-align: top;\n",
       "    }\n",
       "\n",
       "    .dataframe thead th {\n",
       "        text-align: right;\n",
       "    }\n",
       "</style>\n",
       "<table border=\"1\" class=\"dataframe\">\n",
       "  <thead>\n",
       "    <tr style=\"text-align: right;\">\n",
       "      <th></th>\n",
       "      <th>count</th>\n",
       "      <th>mean</th>\n",
       "      <th>std</th>\n",
       "      <th>min</th>\n",
       "      <th>25%</th>\n",
       "      <th>50%</th>\n",
       "      <th>75%</th>\n",
       "      <th>max</th>\n",
       "    </tr>\n",
       "  </thead>\n",
       "  <tbody>\n",
       "    <tr>\n",
       "      <th>InvoiceNo</th>\n",
       "      <td>49782.0</td>\n",
       "      <td>550681.239946</td>\n",
       "      <td>260703.009944</td>\n",
       "      <td>100005.00</td>\n",
       "      <td>324543.0000</td>\n",
       "      <td>552244.00</td>\n",
       "      <td>776364.00</td>\n",
       "      <td>999997.000000</td>\n",
       "    </tr>\n",
       "    <tr>\n",
       "      <th>Quantity</th>\n",
       "      <td>49782.0</td>\n",
       "      <td>22.372343</td>\n",
       "      <td>17.917774</td>\n",
       "      <td>-50.00</td>\n",
       "      <td>11.0000</td>\n",
       "      <td>23.00</td>\n",
       "      <td>37.00</td>\n",
       "      <td>49.000000</td>\n",
       "    </tr>\n",
       "    <tr>\n",
       "      <th>UnitPrice</th>\n",
       "      <td>49782.0</td>\n",
       "      <td>47.537862</td>\n",
       "      <td>33.479510</td>\n",
       "      <td>-99.98</td>\n",
       "      <td>23.5925</td>\n",
       "      <td>48.92</td>\n",
       "      <td>74.61</td>\n",
       "      <td>100.000000</td>\n",
       "    </tr>\n",
       "    <tr>\n",
       "      <th>CustomerID</th>\n",
       "      <td>44804.0</td>\n",
       "      <td>55032.871775</td>\n",
       "      <td>25913.660157</td>\n",
       "      <td>10001.00</td>\n",
       "      <td>32750.7500</td>\n",
       "      <td>55165.00</td>\n",
       "      <td>77306.25</td>\n",
       "      <td>99998.000000</td>\n",
       "    </tr>\n",
       "    <tr>\n",
       "      <th>Discount</th>\n",
       "      <td>49782.0</td>\n",
       "      <td>0.275748</td>\n",
       "      <td>0.230077</td>\n",
       "      <td>0.00</td>\n",
       "      <td>0.1300</td>\n",
       "      <td>0.26</td>\n",
       "      <td>0.38</td>\n",
       "      <td>1.999764</td>\n",
       "    </tr>\n",
       "    <tr>\n",
       "      <th>ShippingCost</th>\n",
       "      <td>47293.0</td>\n",
       "      <td>17.494529</td>\n",
       "      <td>7.220557</td>\n",
       "      <td>5.00</td>\n",
       "      <td>11.2200</td>\n",
       "      <td>17.50</td>\n",
       "      <td>23.72</td>\n",
       "      <td>30.000000</td>\n",
       "    </tr>\n",
       "  </tbody>\n",
       "</table>\n",
       "</div>"
      ],
      "text/plain": [
       "                count           mean            std        min          25%  \\\n",
       "InvoiceNo     49782.0  550681.239946  260703.009944  100005.00  324543.0000   \n",
       "Quantity      49782.0      22.372343      17.917774     -50.00      11.0000   \n",
       "UnitPrice     49782.0      47.537862      33.479510     -99.98      23.5925   \n",
       "CustomerID    44804.0   55032.871775   25913.660157   10001.00   32750.7500   \n",
       "Discount      49782.0       0.275748       0.230077       0.00       0.1300   \n",
       "ShippingCost  47293.0      17.494529       7.220557       5.00      11.2200   \n",
       "\n",
       "                    50%        75%            max  \n",
       "InvoiceNo     552244.00  776364.00  999997.000000  \n",
       "Quantity          23.00      37.00      49.000000  \n",
       "UnitPrice         48.92      74.61     100.000000  \n",
       "CustomerID     55165.00   77306.25   99998.000000  \n",
       "Discount           0.26       0.38       1.999764  \n",
       "ShippingCost      17.50      23.72      30.000000  "
      ]
     },
     "execution_count": 13,
     "metadata": {},
     "output_type": "execute_result"
    }
   ],
   "source": [
    "df.describe().T"
   ]
  },
  {
   "cell_type": "markdown",
   "id": "175df85d-227c-486e-bceb-c0cf8039e732",
   "metadata": {},
   "source": [
    "# Step2: Cleaning Inconsistent and Invalid Data"
   ]
  },
  {
   "cell_type": "code",
   "execution_count": 15,
   "id": "fe76ccfc-6a2f-4aa7-8a88-fc8e20a60b43",
   "metadata": {},
   "outputs": [],
   "source": [
    "# Fixing values in \"UnitPrice\"\n",
    "# Cleaning up negative or unrealistic values in Quantity\n",
    "# Standardize the \"PaymentMethod\" column\n"
   ]
  },
  {
   "cell_type": "code",
   "execution_count": 16,
   "id": "b85e6fbd-d04e-449b-9abd-168916de661f",
   "metadata": {},
   "outputs": [
    {
     "data": {
      "text/plain": [
       "1493"
      ]
     },
     "execution_count": 16,
     "metadata": {},
     "output_type": "execute_result"
    }
   ],
   "source": [
    "df[df[\"UnitPrice\"] < 0 ][\"UnitPrice\"].count()"
   ]
  },
  {
   "cell_type": "code",
   "execution_count": 17,
   "id": "399046b7-91ed-45db-86dd-927acb8b2092",
   "metadata": {},
   "outputs": [],
   "source": [
    "df[\"UnitPrice\"] = df[\"UnitPrice\"].abs()"
   ]
  },
  {
   "cell_type": "code",
   "execution_count": 18,
   "id": "d24469cb-e026-4e50-9309-81ddbfc0dd4d",
   "metadata": {},
   "outputs": [
    {
     "data": {
      "text/plain": [
       "0"
      ]
     },
     "execution_count": 18,
     "metadata": {},
     "output_type": "execute_result"
    }
   ],
   "source": [
    "df[df[\"UnitPrice\"]<0][\"UnitPrice\"].count()"
   ]
  },
  {
   "cell_type": "markdown",
   "id": "773f87dc-09f3-4da8-9e12-54d2d8cbe27b",
   "metadata": {},
   "source": [
    "# Cleaning up Negative or unrealistic values in \"Quality\""
   ]
  },
  {
   "cell_type": "code",
   "execution_count": 20,
   "id": "4f65b34d-7e60-43e5-82c5-ec28f8fc952a",
   "metadata": {},
   "outputs": [
    {
     "data": {
      "text/plain": [
       "2489"
      ]
     },
     "execution_count": 20,
     "metadata": {},
     "output_type": "execute_result"
    }
   ],
   "source": [
    "# We observed that there are 2,489 negative values in the column by applying the following condition.\n",
    "df[df[\"Quantity\"]<0][\"Quantity\"].count()"
   ]
  },
  {
   "cell_type": "code",
   "execution_count": 21,
   "id": "32317c03-83c4-41c9-9f79-20dbe906c535",
   "metadata": {},
   "outputs": [],
   "source": [
    "# We transformed the negative values in `UnitPrice` to positive by using the `abs()` function.\n",
    "df[\"Quantity\"] = df[\"Quantity\"].abs()"
   ]
  },
  {
   "cell_type": "code",
   "execution_count": 22,
   "id": "6d7efea8-75a5-4af5-a5aa-b7ae09f6c3ae",
   "metadata": {},
   "outputs": [
    {
     "data": {
      "text/plain": [
       "0"
      ]
     },
     "execution_count": 22,
     "metadata": {},
     "output_type": "execute_result"
    }
   ],
   "source": [
    "df[df[\"Quantity\"]<0][\"Quantity\"].count()"
   ]
  },
  {
   "cell_type": "markdown",
   "id": "d08b135b-813f-4fe6-89f6-df35cdb3ffe3",
   "metadata": {},
   "source": [
    "# Standardizing the \"PaymentMethod\" column"
   ]
  },
  {
   "cell_type": "code",
   "execution_count": 24,
   "id": "8a3a80f9-6f75-49da-9dde-aefd4389658b",
   "metadata": {},
   "outputs": [
    {
     "data": {
      "text/plain": [
       "PaymentMethod\n",
       "Bank Transfer    16747\n",
       "Credit Card      16530\n",
       "paypall          16505\n",
       "Name: count, dtype: int64"
      ]
     },
     "execution_count": 24,
     "metadata": {},
     "output_type": "execute_result"
    }
   ],
   "source": [
    "# we identify the payment method in \"PaymentMethod\"\n",
    "df[\"PaymentMethod\"].value_counts()"
   ]
  },
  {
   "cell_type": "code",
   "execution_count": 25,
   "id": "1d0346d7-e208-46c6-9d88-1f7337a54e71",
   "metadata": {},
   "outputs": [
    {
     "name": "stderr",
     "output_type": "stream",
     "text": [
      "C:\\Users\\user\\AppData\\Local\\Temp\\ipykernel_3756\\735163734.py:2: FutureWarning: A value is trying to be set on a copy of a DataFrame or Series through chained assignment using an inplace method.\n",
      "The behavior will change in pandas 3.0. This inplace method will never work because the intermediate object on which we are setting values always behaves as a copy.\n",
      "\n",
      "For example, when doing 'df[col].method(value, inplace=True)', try using 'df.method({col: value}, inplace=True)' or df[col] = df[col].method(value) instead, to perform the operation inplace on the original object.\n",
      "\n",
      "\n",
      "  df[\"PaymentMethod\"].replace(\"paypall\", \"Paypal\", inplace = True)\n"
     ]
    }
   ],
   "source": [
    "# We updated the \"paypall\" payment method to \"Paypall\" in \"PaymentMethod\n",
    "df[\"PaymentMethod\"].replace(\"paypall\", \"Paypal\", inplace = True)"
   ]
  },
  {
   "cell_type": "code",
   "execution_count": 26,
   "id": "735948a6-c8c5-41c3-a2f3-16ebb1db86c2",
   "metadata": {},
   "outputs": [
    {
     "data": {
      "text/plain": [
       "PaymentMethod\n",
       "Bank Transfer    16747\n",
       "Credit Card      16530\n",
       "Paypal           16505\n",
       "Name: count, dtype: int64"
      ]
     },
     "execution_count": 26,
     "metadata": {},
     "output_type": "execute_result"
    }
   ],
   "source": [
    "df[\"PaymentMethod\"].value_counts()"
   ]
  },
  {
   "cell_type": "code",
   "execution_count": 27,
   "id": "14c7d42e-7f5d-44a6-b094-570e9c06cd5f",
   "metadata": {},
   "outputs": [
    {
     "data": {
      "text/html": [
       "<div>\n",
       "<style scoped>\n",
       "    .dataframe tbody tr th:only-of-type {\n",
       "        vertical-align: middle;\n",
       "    }\n",
       "\n",
       "    .dataframe tbody tr th {\n",
       "        vertical-align: top;\n",
       "    }\n",
       "\n",
       "    .dataframe thead th {\n",
       "        text-align: right;\n",
       "    }\n",
       "</style>\n",
       "<table border=\"1\" class=\"dataframe\">\n",
       "  <thead>\n",
       "    <tr style=\"text-align: right;\">\n",
       "      <th></th>\n",
       "      <th>InvoiceNo</th>\n",
       "      <th>StockCode</th>\n",
       "      <th>Description</th>\n",
       "      <th>Quantity</th>\n",
       "      <th>InvoiceDate</th>\n",
       "      <th>UnitPrice</th>\n",
       "      <th>CustomerID</th>\n",
       "      <th>Country</th>\n",
       "      <th>Discount</th>\n",
       "      <th>PaymentMethod</th>\n",
       "      <th>ShippingCost</th>\n",
       "      <th>Category</th>\n",
       "      <th>SalesChannel</th>\n",
       "      <th>ReturnStatus</th>\n",
       "      <th>ShipmentProvider</th>\n",
       "      <th>WarehouseLocation</th>\n",
       "      <th>OrderPriority</th>\n",
       "    </tr>\n",
       "  </thead>\n",
       "  <tbody>\n",
       "    <tr>\n",
       "      <th>0</th>\n",
       "      <td>221958</td>\n",
       "      <td>SKU_1964</td>\n",
       "      <td>White Mug</td>\n",
       "      <td>38</td>\n",
       "      <td>2020-01-01 00:00</td>\n",
       "      <td>1.71</td>\n",
       "      <td>37039.0</td>\n",
       "      <td>Australia</td>\n",
       "      <td>0.47</td>\n",
       "      <td>Bank Transfer</td>\n",
       "      <td>10.79</td>\n",
       "      <td>Apparel</td>\n",
       "      <td>In-store</td>\n",
       "      <td>Not Returned</td>\n",
       "      <td>UPS</td>\n",
       "      <td>London</td>\n",
       "      <td>Medium</td>\n",
       "    </tr>\n",
       "  </tbody>\n",
       "</table>\n",
       "</div>"
      ],
      "text/plain": [
       "   InvoiceNo StockCode Description  Quantity       InvoiceDate  UnitPrice  \\\n",
       "0     221958  SKU_1964   White Mug        38  2020-01-01 00:00       1.71   \n",
       "\n",
       "   CustomerID    Country  Discount  PaymentMethod  ShippingCost Category  \\\n",
       "0     37039.0  Australia      0.47  Bank Transfer         10.79  Apparel   \n",
       "\n",
       "  SalesChannel  ReturnStatus ShipmentProvider WarehouseLocation OrderPriority  \n",
       "0     In-store  Not Returned              UPS            London        Medium  "
      ]
     },
     "execution_count": 27,
     "metadata": {},
     "output_type": "execute_result"
    }
   ],
   "source": [
    "df.head(1)"
   ]
  },
  {
   "cell_type": "code",
   "execution_count": 28,
   "id": "78a591e1-60c5-4b63-bb26-21028631c603",
   "metadata": {},
   "outputs": [],
   "source": [
    "df[\"StockCode\"] = df[\"StockCode\"].str.lstrip(\"SKU_\").astype(\"int\")"
   ]
  },
  {
   "cell_type": "code",
   "execution_count": 29,
   "id": "d101cade-dba4-4a97-8bb3-4beb13c5c2ab",
   "metadata": {},
   "outputs": [
    {
     "name": "stdout",
     "output_type": "stream",
     "text": [
      "<class 'pandas.core.frame.DataFrame'>\n",
      "RangeIndex: 49782 entries, 0 to 49781\n",
      "Data columns (total 17 columns):\n",
      " #   Column             Non-Null Count  Dtype  \n",
      "---  ------             --------------  -----  \n",
      " 0   InvoiceNo          49782 non-null  int64  \n",
      " 1   StockCode          49782 non-null  int32  \n",
      " 2   Description        49782 non-null  object \n",
      " 3   Quantity           49782 non-null  int64  \n",
      " 4   InvoiceDate        49782 non-null  object \n",
      " 5   UnitPrice          49782 non-null  float64\n",
      " 6   CustomerID         44804 non-null  float64\n",
      " 7   Country            49782 non-null  object \n",
      " 8   Discount           49782 non-null  float64\n",
      " 9   PaymentMethod      49782 non-null  object \n",
      " 10  ShippingCost       47293 non-null  float64\n",
      " 11  Category           49782 non-null  object \n",
      " 12  SalesChannel       49782 non-null  object \n",
      " 13  ReturnStatus       49782 non-null  object \n",
      " 14  ShipmentProvider   49782 non-null  object \n",
      " 15  WarehouseLocation  46297 non-null  object \n",
      " 16  OrderPriority      49782 non-null  object \n",
      "dtypes: float64(4), int32(1), int64(2), object(10)\n",
      "memory usage: 6.3+ MB\n"
     ]
    }
   ],
   "source": [
    "#We observed that the data type has changed.\n",
    "df.info()"
   ]
  },
  {
   "cell_type": "markdown",
   "id": "e2c4c30f-17f4-4de1-b93a-afb86b21be73",
   "metadata": {},
   "source": [
    "# Standardize the Customer Id"
   ]
  },
  {
   "cell_type": "code",
   "execution_count": 31,
   "id": "f4a2f510-c200-4ff2-b17c-1d5bda81b7a9",
   "metadata": {},
   "outputs": [
    {
     "data": {
      "text/plain": [
       "0    37039.0\n",
       "1    19144.0\n",
       "2    50472.0\n",
       "3    96586.0\n",
       "4        NaN\n",
       "Name: CustomerID, dtype: float64"
      ]
     },
     "execution_count": 31,
     "metadata": {},
     "output_type": "execute_result"
    }
   ],
   "source": [
    "df[\"CustomerID\"].head(5)"
   ]
  },
  {
   "cell_type": "code",
   "execution_count": 32,
   "id": "38b9c4bd-c92c-433a-b5a6-9c099a734870",
   "metadata": {},
   "outputs": [],
   "source": [
    "#We converted the Nan values ​​in the 'CustomerID' column to 'Object' data type to make them 'Unknow'. Here we make a direct integer and\n",
    "# We tried removing '.0' values. It gave an error due to NaN values.\n",
    "df[\"CustomerID\"] = df[\"CustomerID\"].astype(\"object\")"
   ]
  },
  {
   "cell_type": "code",
   "execution_count": 33,
   "id": "45fec131-b203-4ee6-af9a-419f222aff89",
   "metadata": {},
   "outputs": [
    {
     "name": "stderr",
     "output_type": "stream",
     "text": [
      "C:\\Users\\user\\AppData\\Local\\Temp\\ipykernel_3756\\2872804400.py:2: FutureWarning: A value is trying to be set on a copy of a DataFrame or Series through chained assignment using an inplace method.\n",
      "The behavior will change in pandas 3.0. This inplace method will never work because the intermediate object on which we are setting values always behaves as a copy.\n",
      "\n",
      "For example, when doing 'df[col].method(value, inplace=True)', try using 'df.method({col: value}, inplace=True)' or df[col] = df[col].method(value) instead, to perform the operation inplace on the original object.\n",
      "\n",
      "\n",
      "  df[\"CustomerID\"].fillna(\"Unknown\", inplace=True)\n"
     ]
    }
   ],
   "source": [
    "# We filled in NaN values.\n",
    "df[\"CustomerID\"].fillna(\"Unknown\", inplace=True)"
   ]
  },
  {
   "cell_type": "code",
   "execution_count": 34,
   "id": "9a4f9504-7dd0-48aa-88fe-055a275f4015",
   "metadata": {},
   "outputs": [],
   "source": [
    "# We changed the data type to 'str' to delete the redundant value '.0' in this line. Since the '.0' value is not deleted once, each character\n",
    "# we deleted separately.\n",
    "df[\"CustomerID\"] = df[\"CustomerID\"].astype(\"str\").str.rstrip(\"0\").str.rstrip(\".\")"
   ]
  },
  {
   "cell_type": "code",
   "execution_count": 35,
   "id": "fcae86d5-dad9-4008-b64d-104b7dd2ee16",
   "metadata": {},
   "outputs": [
    {
     "data": {
      "text/plain": [
       "0      37039\n",
       "1      19144\n",
       "2      50472\n",
       "3      96586\n",
       "4    Unknown\n",
       "Name: CustomerID, dtype: object"
      ]
     },
     "execution_count": 35,
     "metadata": {},
     "output_type": "execute_result"
    }
   ],
   "source": [
    "df[\"CustomerID\"].head(5)"
   ]
  },
  {
   "cell_type": "markdown",
   "id": "f8912eef-c816-46ef-b853-fd4efb024cfc",
   "metadata": {},
   "source": [
    "# Standardize the Discount column\n"
   ]
  },
  {
   "cell_type": "code",
   "execution_count": 39,
   "id": "f833183c-f15e-4d6e-9b5d-b2c7d0aa1e7d",
   "metadata": {},
   "outputs": [
    {
     "data": {
      "text/plain": [
       "0    0.470000\n",
       "1    0.190000\n",
       "2    0.350000\n",
       "3    0.140000\n",
       "4    1.501433\n",
       "Name: Discount, dtype: float64"
      ]
     },
     "execution_count": 39,
     "metadata": {},
     "output_type": "execute_result"
    }
   ],
   "source": [
    "df[\"Discount\"].head()"
   ]
  },
  {
   "cell_type": "code",
   "execution_count": 42,
   "id": "9a7243e7-a846-4049-a0ad-852d43b05ce3",
   "metadata": {},
   "outputs": [],
   "source": [
    "# We arranged it to have 2 digits after the dot with the 'Round' parameter.\n",
    "df[\"Discount\"] = df[\"Discount\"].round(2)"
   ]
  },
  {
   "cell_type": "code",
   "execution_count": 46,
   "id": "726f4154-7cbd-4dec-a4c5-77c0f6ccaa28",
   "metadata": {},
   "outputs": [
    {
     "data": {
      "text/plain": [
       "0    0.47\n",
       "1    0.19\n",
       "2    0.35\n",
       "3    0.14\n",
       "4    1.50\n",
       "Name: Discount, dtype: float64"
      ]
     },
     "execution_count": 46,
     "metadata": {},
     "output_type": "execute_result"
    }
   ],
   "source": [
    "df[\"Discount\"].head()"
   ]
  },
  {
   "cell_type": "markdown",
   "id": "8050fde5-5fe9-433f-ae35-fa99e23fc468",
   "metadata": {},
   "source": [
    "# Analyzing and Handling Missing Values"
   ]
  },
  {
   "cell_type": "code",
   "execution_count": 59,
   "id": "e80299b8-eaeb-4f53-b3af-7b2c03542042",
   "metadata": {},
   "outputs": [],
   "source": [
    "# Checking for missing values\n",
    "\n",
    "# Fill missing values with your strategy"
   ]
  },
  {
   "cell_type": "code",
   "execution_count": 65,
   "id": "49e9b077-8c63-44e0-a144-299c247f1bcd",
   "metadata": {},
   "outputs": [
    {
     "data": {
      "text/plain": [
       "InvoiceNo               0\n",
       "StockCode               0\n",
       "Description             0\n",
       "Quantity                0\n",
       "InvoiceDate             0\n",
       "UnitPrice               0\n",
       "CustomerID              0\n",
       "Country                 0\n",
       "Discount                0\n",
       "PaymentMethod           0\n",
       "ShippingCost         2489\n",
       "Category                0\n",
       "SalesChannel            0\n",
       "ReturnStatus            0\n",
       "ShipmentProvider        0\n",
       "WarehouseLocation    3485\n",
       "OrderPriority           0\n",
       "dtype: int64"
      ]
     },
     "execution_count": 65,
     "metadata": {},
     "output_type": "execute_result"
    }
   ],
   "source": [
    "df.isnull().sum()"
   ]
  },
  {
   "cell_type": "code",
   "execution_count": 68,
   "id": "94863ffa-760b-410d-a64e-dc929b0dc3cc",
   "metadata": {},
   "outputs": [
    {
     "data": {
      "text/plain": [
       "17.49452921151122"
      ]
     },
     "execution_count": 68,
     "metadata": {},
     "output_type": "execute_result"
    }
   ],
   "source": [
    "# ShippingCost column average value calculation\n",
    "df[\"ShippingCost\"].mean()"
   ]
  },
  {
   "cell_type": "code",
   "execution_count": 70,
   "id": "3de00ac3-a639-412e-86d8-99675e73a552",
   "metadata": {},
   "outputs": [
    {
     "data": {
      "text/plain": [
       "17.49455195055477"
      ]
     },
     "execution_count": 70,
     "metadata": {},
     "output_type": "execute_result"
    }
   ],
   "source": [
    "# Calculate “ShippingCost” average value based on “Country” column\n",
    "df.groupby(\"Country\")[\"ShippingCost\"].mean().mean()"
   ]
  },
  {
   "cell_type": "code",
   "execution_count": 71,
   "id": "0e8716b3-db8a-407d-b15f-f122dc4f9215",
   "metadata": {},
   "outputs": [
    {
     "data": {
      "text/plain": [
       "17.494364720265526"
      ]
     },
     "execution_count": 71,
     "metadata": {},
     "output_type": "execute_result"
    }
   ],
   "source": [
    "# Calculate “ShippingCost” average value based on \"ShipmentProvider\" column\n",
    "df.groupby(\"ShipmentProvider\")[\"ShippingCost\"].mean().mean()"
   ]
  },
  {
   "cell_type": "code",
   "execution_count": 72,
   "id": "139611a8-8a57-4412-9649-65e54e475615",
   "metadata": {},
   "outputs": [
    {
     "data": {
      "text/plain": [
       "17.48266955767786"
      ]
     },
     "execution_count": 72,
     "metadata": {},
     "output_type": "execute_result"
    }
   ],
   "source": [
    "# Calculate “ShippingCost” average value based on \"WarehouseLocation\" column\n",
    "df.groupby(\"WarehouseLocation\")[\"ShippingCost\"].mean().mean()"
   ]
  },
  {
   "cell_type": "code",
   "execution_count": 74,
   "id": "1ffcafde-6ad5-483e-80be-bc5b27259505",
   "metadata": {},
   "outputs": [
    {
     "data": {
      "text/plain": [
       "0        10.79\n",
       "1         9.51\n",
       "2        23.03\n",
       "3        11.08\n",
       "4        17.49\n",
       "         ...  \n",
       "49777     8.96\n",
       "49778    23.55\n",
       "49779    16.26\n",
       "49780    28.56\n",
       "49781     9.13\n",
       "Name: ShippingCost, Length: 49782, dtype: float64"
      ]
     },
     "execution_count": 74,
     "metadata": {},
     "output_type": "execute_result"
    }
   ],
   "source": [
    "# Filling the “ShippingCost” column NaN values.\n",
    "df[\"ShippingCost\"].fillna(17.49)"
   ]
  },
  {
   "cell_type": "code",
   "execution_count": 76,
   "id": "fbdf6358-cb0a-46b6-a134-539484689e68",
   "metadata": {},
   "outputs": [
    {
     "data": {
      "text/plain": [
       "InvoiceNo               0\n",
       "StockCode               0\n",
       "Description             0\n",
       "Quantity                0\n",
       "InvoiceDate             0\n",
       "UnitPrice               0\n",
       "CustomerID              0\n",
       "Country                 0\n",
       "Discount                0\n",
       "PaymentMethod           0\n",
       "ShippingCost         2489\n",
       "Category                0\n",
       "SalesChannel            0\n",
       "ReturnStatus            0\n",
       "ShipmentProvider        0\n",
       "WarehouseLocation    3485\n",
       "OrderPriority           0\n",
       "dtype: int64"
      ]
     },
     "execution_count": 76,
     "metadata": {},
     "output_type": "execute_result"
    }
   ],
   "source": [
    "# We checked that the NaN values of the “ShippingCost” column are filled.\n",
    "df.isnull().sum()"
   ]
  },
  {
   "cell_type": "code",
   "execution_count": 81,
   "id": "812a610e-d129-4ab8-9049-962119a76bd0",
   "metadata": {},
   "outputs": [
    {
     "data": {
      "text/plain": [
       "InvoiceNo               0\n",
       "StockCode               0\n",
       "Description             0\n",
       "Quantity                0\n",
       "InvoiceDate             0\n",
       "UnitPrice               0\n",
       "CustomerID              0\n",
       "Country                 0\n",
       "Discount                0\n",
       "PaymentMethod           0\n",
       "ShippingCost         2489\n",
       "Category                0\n",
       "SalesChannel            0\n",
       "ReturnStatus            0\n",
       "ShipmentProvider        0\n",
       "WarehouseLocation    3485\n",
       "OrderPriority           0\n",
       "dtype: int64"
      ]
     },
     "execution_count": 81,
     "metadata": {},
     "output_type": "execute_result"
    }
   ],
   "source": [
    "# Detection of NaN values in “WarehouseLocation” Column\n",
    "df.isnull().sum()"
   ]
  },
  {
   "cell_type": "code",
   "execution_count": 84,
   "id": "66dfd9af-4d6b-46c6-838d-57496bc348b6",
   "metadata": {},
   "outputs": [
    {
     "data": {
      "text/plain": [
       "WarehouseLocation\n",
       "Amsterdam    9458\n",
       "London       9230\n",
       "Rome         9226\n",
       "Berlin       9210\n",
       "Paris        9173\n",
       "Name: count, dtype: int64"
      ]
     },
     "execution_count": 84,
     "metadata": {},
     "output_type": "execute_result"
    }
   ],
   "source": [
    "# Checking the current values.\n",
    "df[\"WarehouseLocation\"].value_counts()"
   ]
  },
  {
   "cell_type": "code",
   "execution_count": 87,
   "id": "4328f0a4-b39c-4639-a187-eba27d67201f",
   "metadata": {},
   "outputs": [
    {
     "data": {
      "text/plain": [
       "array(['London', 'Rome', 'Berlin', 'Amsterdam', 'Paris'], dtype=object)"
      ]
     },
     "execution_count": 87,
     "metadata": {},
     "output_type": "execute_result"
    }
   ],
   "source": [
    "# We've brought the unique version except for NaN.\n",
    "warehouse_locations = df['WarehouseLocation'].dropna().unique()\n",
    "warehouse_locations"
   ]
  },
  {
   "cell_type": "code",
   "execution_count": 89,
   "id": "ecc694c0-c855-4271-a2ed-67f18b4be0f4",
   "metadata": {},
   "outputs": [],
   "source": [
    "# Fills the NaN values in the 'WarehouseLocation' cell by randomly selecting from the values in Warehouse_locations.\n",
    "df['WarehouseLocation'] =  df['WarehouseLocation'].apply(lambda x: np.random.choice(warehouse_locations) if pd.isna(x) else x)"
   ]
  },
  {
   "cell_type": "code",
   "execution_count": 91,
   "id": "7af93b02-1f25-4030-89e1-d6e455fb6b17",
   "metadata": {},
   "outputs": [
    {
     "data": {
      "text/plain": [
       "WarehouseLocation\n",
       "Amsterdam    10170\n",
       "Rome          9942\n",
       "Berlin        9908\n",
       "Paris         9888\n",
       "London        9874\n",
       "Name: count, dtype: int64"
      ]
     },
     "execution_count": 91,
     "metadata": {},
     "output_type": "execute_result"
    }
   ],
   "source": [
    "# Latest status after filling\n",
    "df[\"WarehouseLocation\"].value_counts()"
   ]
  },
  {
   "cell_type": "code",
   "execution_count": 93,
   "id": "bf41cc47-8ebf-4339-b7e5-f849c5aa9487",
   "metadata": {},
   "outputs": [
    {
     "data": {
      "text/plain": [
       "InvoiceNo               0\n",
       "StockCode               0\n",
       "Description             0\n",
       "Quantity                0\n",
       "InvoiceDate             0\n",
       "UnitPrice               0\n",
       "CustomerID              0\n",
       "Country                 0\n",
       "Discount                0\n",
       "PaymentMethod           0\n",
       "ShippingCost         2489\n",
       "Category                0\n",
       "SalesChannel            0\n",
       "ReturnStatus            0\n",
       "ShipmentProvider        0\n",
       "WarehouseLocation       0\n",
       "OrderPriority           0\n",
       "dtype: int64"
      ]
     },
     "execution_count": 93,
     "metadata": {},
     "output_type": "execute_result"
    }
   ],
   "source": [
    "# We checked that the NaN values are full.\n",
    "df.isnull().sum()"
   ]
  },
  {
   "cell_type": "code",
   "execution_count": 95,
   "id": "997daece-da19-4b69-b5d1-3e1ffde624ff",
   "metadata": {},
   "outputs": [
    {
     "data": {
      "text/html": [
       "<div>\n",
       "<style scoped>\n",
       "    .dataframe tbody tr th:only-of-type {\n",
       "        vertical-align: middle;\n",
       "    }\n",
       "\n",
       "    .dataframe tbody tr th {\n",
       "        vertical-align: top;\n",
       "    }\n",
       "\n",
       "    .dataframe thead th {\n",
       "        text-align: right;\n",
       "    }\n",
       "</style>\n",
       "<table border=\"1\" class=\"dataframe\">\n",
       "  <thead>\n",
       "    <tr style=\"text-align: right;\">\n",
       "      <th></th>\n",
       "      <th>count</th>\n",
       "      <th>mean</th>\n",
       "      <th>std</th>\n",
       "      <th>min</th>\n",
       "      <th>25%</th>\n",
       "      <th>50%</th>\n",
       "      <th>75%</th>\n",
       "      <th>max</th>\n",
       "    </tr>\n",
       "  </thead>\n",
       "  <tbody>\n",
       "    <tr>\n",
       "      <th>InvoiceNo</th>\n",
       "      <td>49782.0</td>\n",
       "      <td>550681.239946</td>\n",
       "      <td>260703.009944</td>\n",
       "      <td>100005.0</td>\n",
       "      <td>324543.0000</td>\n",
       "      <td>552244.000</td>\n",
       "      <td>776364.00</td>\n",
       "      <td>999997.0</td>\n",
       "    </tr>\n",
       "    <tr>\n",
       "      <th>StockCode</th>\n",
       "      <td>49782.0</td>\n",
       "      <td>1497.690029</td>\n",
       "      <td>288.660958</td>\n",
       "      <td>1000.0</td>\n",
       "      <td>1248.0000</td>\n",
       "      <td>1495.000</td>\n",
       "      <td>1748.00</td>\n",
       "      <td>1999.0</td>\n",
       "    </tr>\n",
       "    <tr>\n",
       "      <th>Quantity</th>\n",
       "      <td>49782.0</td>\n",
       "      <td>24.925555</td>\n",
       "      <td>14.152125</td>\n",
       "      <td>1.0</td>\n",
       "      <td>13.0000</td>\n",
       "      <td>25.000</td>\n",
       "      <td>37.00</td>\n",
       "      <td>50.0</td>\n",
       "    </tr>\n",
       "    <tr>\n",
       "      <th>UnitPrice</th>\n",
       "      <td>49782.0</td>\n",
       "      <td>50.625031</td>\n",
       "      <td>28.597658</td>\n",
       "      <td>1.0</td>\n",
       "      <td>25.8625</td>\n",
       "      <td>50.555</td>\n",
       "      <td>75.37</td>\n",
       "      <td>100.0</td>\n",
       "    </tr>\n",
       "    <tr>\n",
       "      <th>Discount</th>\n",
       "      <td>49782.0</td>\n",
       "      <td>0.275750</td>\n",
       "      <td>0.230086</td>\n",
       "      <td>0.0</td>\n",
       "      <td>0.1300</td>\n",
       "      <td>0.260</td>\n",
       "      <td>0.38</td>\n",
       "      <td>2.0</td>\n",
       "    </tr>\n",
       "    <tr>\n",
       "      <th>ShippingCost</th>\n",
       "      <td>47293.0</td>\n",
       "      <td>17.494529</td>\n",
       "      <td>7.220557</td>\n",
       "      <td>5.0</td>\n",
       "      <td>11.2200</td>\n",
       "      <td>17.500</td>\n",
       "      <td>23.72</td>\n",
       "      <td>30.0</td>\n",
       "    </tr>\n",
       "  </tbody>\n",
       "</table>\n",
       "</div>"
      ],
      "text/plain": [
       "                count           mean            std       min          25%  \\\n",
       "InvoiceNo     49782.0  550681.239946  260703.009944  100005.0  324543.0000   \n",
       "StockCode     49782.0    1497.690029     288.660958    1000.0    1248.0000   \n",
       "Quantity      49782.0      24.925555      14.152125       1.0      13.0000   \n",
       "UnitPrice     49782.0      50.625031      28.597658       1.0      25.8625   \n",
       "Discount      49782.0       0.275750       0.230086       0.0       0.1300   \n",
       "ShippingCost  47293.0      17.494529       7.220557       5.0      11.2200   \n",
       "\n",
       "                     50%        75%       max  \n",
       "InvoiceNo     552244.000  776364.00  999997.0  \n",
       "StockCode       1495.000    1748.00    1999.0  \n",
       "Quantity          25.000      37.00      50.0  \n",
       "UnitPrice         50.555      75.37     100.0  \n",
       "Discount           0.260       0.38       2.0  \n",
       "ShippingCost      17.500      23.72      30.0  "
      ]
     },
     "execution_count": 95,
     "metadata": {},
     "output_type": "execute_result"
    }
   ],
   "source": [
    "df.describe().T"
   ]
  },
  {
   "cell_type": "markdown",
   "id": "b372c88f-8ad1-4bfa-b5aa-4520ebf3c8b6",
   "metadata": {},
   "source": [
    "# Detecting and Handling Outliers"
   ]
  },
  {
   "cell_type": "code",
   "execution_count": 98,
   "id": "bfc6c534-5f67-4cc6-affb-a5bf22039fd1",
   "metadata": {},
   "outputs": [],
   "source": [
    "# Boxplot for outlier detection                \n",
    "# Example: Removing outliers\n",
    "# df = df[df['UnitPrice'] < df['UnitPrice'].quantile(0.99)]"
   ]
  },
  {
   "cell_type": "code",
   "execution_count": 100,
   "id": "bcda3383-76f3-4096-a951-5da793f10580",
   "metadata": {},
   "outputs": [
    {
     "data": {
      "text/plain": [
       "<Axes: xlabel='Quantity'>"
      ]
     },
     "execution_count": 100,
     "metadata": {},
     "output_type": "execute_result"
    },
    {
     "data": {
      "image/png": "[encoded data removed]",
      "text/plain": [
       "<Figure size 640x480 with 1 Axes>"
      ]
     },
     "metadata": {},
     "output_type": "display_data"
    }
   ],
   "source": [
    "sns.boxplot(data = df, x = \"Quantity\", color = \"#60C1AD\")"
   ]
  },
  {
   "cell_type": "code",
   "execution_count": 1,
   "id": "b236187c-5c20-4259-9182-aff97c2efbeb",
   "metadata": {},
   "outputs": [],
   "source": [
    "# Detecting and Handling Outliers in \"UnitPrice\""
   ]
  },
  {
   "cell_type": "code",
   "execution_count": 102,
   "id": "3e840318-a414-4770-99b6-19ed21083f63",
   "metadata": {},
   "outputs": [
    {
     "data": {
      "text/plain": [
       "<Axes: xlabel='UnitPrice'>"
      ]
     },
     "execution_count": 102,
     "metadata": {},
     "output_type": "execute_result"
    },
    {
     "data": {
      "image/png": "[encoded data removed]",
      "text/plain": [
       "<Figure size 640x480 with 1 Axes>"
      ]
     },
     "metadata": {},
     "output_type": "display_data"
    }
   ],
   "source": [
    "sns.boxplot(data = df, x = \"UnitPrice\", color = \"#60C1AD\")"
   ]
  },
  {
   "cell_type": "code",
   "execution_count": 104,
   "id": "5b5257b7-3864-4def-9709-76901b823d24",
   "metadata": {},
   "outputs": [],
   "source": [
    "# Detecting and Handling Outliers in \"Discount\""
   ]
  },
  {
   "cell_type": "code",
   "execution_count": 106,
   "id": "100146c6-654e-457a-affd-8c8f365ff26e",
   "metadata": {},
   "outputs": [
    {
     "data": {
      "text/plain": [
       "996"
      ]
     },
     "execution_count": 106,
     "metadata": {},
     "output_type": "execute_result"
    }
   ],
   "source": [
    "#see the number of outliner values.\n",
    "df[df[\"Discount\"]>0.755][\"Discount\"].count()"
   ]
  },
  {
   "cell_type": "code",
   "execution_count": 108,
   "id": "7af5d91a-a428-4ceb-aa09-cdc80afb9a97",
   "metadata": {},
   "outputs": [
    {
     "name": "stdout",
     "output_type": "stream",
     "text": [
      "Q1=0.13, Q2=0.26, Q30.38\n"
     ]
    }
   ],
   "source": [
    "# Finding Q1, Q2, Q3\n",
    "Q1 = df[\"Discount\"].quantile(0.25)\n",
    "Q2 = df[\"Discount\"].quantile(0.50)\n",
    "Q3 = df[\"Discount\"].quantile(0.75)\n",
    "print(f\"Q1={Q1}, Q2={Q2}, Q3{Q3}\")"
   ]
  },
  {
   "cell_type": "code",
   "execution_count": 135,
   "id": "e722ab38-0ba8-4fbb-8843-58cdce3b2d0c",
   "metadata": {},
   "outputs": [
    {
     "data": {
      "text/plain": [
       "<Axes: xlabel='Discount'>"
      ]
     },
     "execution_count": 135,
     "metadata": {},
     "output_type": "execute_result"
    },
    {
     "data": {
      "image/png": "[encoded data removed]",
      "text/plain": [
       "<Figure size 640x480 with 1 Axes>"
      ]
     },
     "metadata": {},
     "output_type": "display_data"
    }
   ],
   "source": [
    "# Finding IQR, MIN, MAX values and visualizing outlier values with boxplot.\n",
    "# Q1=0.13,Q2=0.26,Q3=0.38\n",
    "# IQR= Q3-Q1 -->  0.38- 0.13= 0.25\n",
    "# MİN= Q1-(1.5 * IQR) --> 0.13-(1.5 * 0.25) = - 0,245\n",
    "# MAX= Q3+(1.5 * IQR) --> 0.38+(1.5 * 0.25) = 0,755\n",
    "sns.boxplot(data = df, x = \"Discount\", color = \"#60C1AD\")"
   ]
  },
  {
   "cell_type": "code",
   "execution_count": 137,
   "id": "01971182-4748-448a-8908-a787fe8f0ca3",
   "metadata": {},
   "outputs": [],
   "source": [
    "# Remove all the outliers\n",
    "df = df[df[\"Discount\"] <=0.755]"
   ]
  },
  {
   "cell_type": "code",
   "execution_count": 139,
   "id": "10c24017-eed2-4b9b-a16e-c3f9dc05590d",
   "metadata": {},
   "outputs": [
    {
     "data": {
      "text/plain": [
       "<Axes: xlabel='Discount'>"
      ]
     },
     "execution_count": 139,
     "metadata": {},
     "output_type": "execute_result"
    },
    {
     "data": {
      "image/png": "[encoded data removed]",
      "text/plain": [
       "<Figure size 640x480 with 1 Axes>"
      ]
     },
     "metadata": {},
     "output_type": "display_data"
    }
   ],
   "source": [
    "# See the removed values\n",
    "sns.boxplot(data = df, x = \"Discount\", color = \"#60C1AD\")"
   ]
  },
  {
   "cell_type": "code",
   "execution_count": 141,
   "id": "24f9e0d6-335f-4876-aa94-bc966df5d5ba",
   "metadata": {},
   "outputs": [
    {
     "data": {
      "text/html": [
       "<div>\n",
       "<style scoped>\n",
       "    .dataframe tbody tr th:only-of-type {\n",
       "        vertical-align: middle;\n",
       "    }\n",
       "\n",
       "    .dataframe tbody tr th {\n",
       "        vertical-align: top;\n",
       "    }\n",
       "\n",
       "    .dataframe thead th {\n",
       "        text-align: right;\n",
       "    }\n",
       "</style>\n",
       "<table border=\"1\" class=\"dataframe\">\n",
       "  <thead>\n",
       "    <tr style=\"text-align: right;\">\n",
       "      <th></th>\n",
       "      <th>InvoiceNo</th>\n",
       "      <th>StockCode</th>\n",
       "      <th>Description</th>\n",
       "      <th>Quantity</th>\n",
       "      <th>InvoiceDate</th>\n",
       "      <th>UnitPrice</th>\n",
       "      <th>CustomerID</th>\n",
       "      <th>Country</th>\n",
       "      <th>Discount</th>\n",
       "      <th>PaymentMethod</th>\n",
       "      <th>ShippingCost</th>\n",
       "      <th>Category</th>\n",
       "      <th>SalesChannel</th>\n",
       "      <th>ReturnStatus</th>\n",
       "      <th>ShipmentProvider</th>\n",
       "      <th>WarehouseLocation</th>\n",
       "      <th>OrderPriority</th>\n",
       "      <th>TotalCost</th>\n",
       "    </tr>\n",
       "  </thead>\n",
       "  <tbody>\n",
       "    <tr>\n",
       "      <th>0</th>\n",
       "      <td>221958</td>\n",
       "      <td>1964</td>\n",
       "      <td>White Mug</td>\n",
       "      <td>38</td>\n",
       "      <td>2020-01-01 00:00</td>\n",
       "      <td>1.71</td>\n",
       "      <td>37039</td>\n",
       "      <td>Australia</td>\n",
       "      <td>0.47</td>\n",
       "      <td>Bank Transfer</td>\n",
       "      <td>10.79</td>\n",
       "      <td>Apparel</td>\n",
       "      <td>In-store</td>\n",
       "      <td>Not Returned</td>\n",
       "      <td>UPS</td>\n",
       "      <td>London</td>\n",
       "      <td>Medium</td>\n",
       "      <td>45.23</td>\n",
       "    </tr>\n",
       "  </tbody>\n",
       "</table>\n",
       "</div>"
      ],
      "text/plain": [
       "   InvoiceNo  StockCode Description  Quantity       InvoiceDate  UnitPrice  \\\n",
       "0     221958       1964   White Mug        38  2020-01-01 00:00       1.71   \n",
       "\n",
       "  CustomerID    Country  Discount  PaymentMethod  ShippingCost Category  \\\n",
       "0      37039  Australia      0.47  Bank Transfer         10.79  Apparel   \n",
       "\n",
       "  SalesChannel  ReturnStatus ShipmentProvider WarehouseLocation OrderPriority  \\\n",
       "0     In-store  Not Returned              UPS            London        Medium   \n",
       "\n",
       "   TotalCost  \n",
       "0      45.23  "
      ]
     },
     "execution_count": 141,
     "metadata": {},
     "output_type": "execute_result"
    }
   ],
   "source": [
    "df.head(1)"
   ]
  },
  {
   "cell_type": "markdown",
   "id": "27cdbb75-c464-44f6-ad0a-c4d1e24584d0",
   "metadata": {},
   "source": [
    "# Conclusion"
   ]
  },
  {
   "cell_type": "code",
   "execution_count": null,
   "id": "33643c19-e36e-4986-87ea-320cb3c217d9",
   "metadata": {},
   "outputs": [],
   "source": [
    "Summarize key findings from your data analysis.\n",
    "Highlight areas for improvement based on customer spending patterns, product performance, and return rates.\n",
    "\n",
    "\n",
    "\n",
    "\n",
    "\n"
   ]
  }
 ],
 "metadata": {
  "kernelspec": {
   "display_name": "Python 3 (ipykernel)",
   "language": "python",
   "name": "python3"
  },
  "language_info": {
   "codemirror_mode": {
    "name": "ipython",
    "version": 3
   },
   "file_extension": ".py",
   "mimetype": "text/x-python",
   "name": "python",
   "nbconvert_exporter": "python",
   "pygments_lexer": "ipython3",
   "version": "3.12.4"
  }
 },
 "nbformat": 4,
 "nbformat_minor": 5
}
